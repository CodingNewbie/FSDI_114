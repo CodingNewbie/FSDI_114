{
 "cells": [
  {
   "cell_type": "code",
   "execution_count": 1,
   "id": "a1e584a2-a737-456c-b541-4158d8544d01",
   "metadata": {},
   "outputs": [],
   "source": [
    "# Simplified implementation of Stack (using built-ins)\n",
    "\n",
    "class Stack:\n",
    "    def __init__(self):\n",
    "        self.items = []\n",
    "\n",
    "    def push(self, value):\n",
    "        self.items.append(value)\n",
    "\n",
    "    def pop(self):\n",
    "        return self.items.pop()\n",
    "\n",
    "    # nice to have methods\n",
    "    def size(self):\n",
    "        return len(self.items)\n",
    "\n",
    "    def peek(self):\n",
    "        return self.items[len(self.items)-1]\n",
    "\n",
    "    def is_empty(self):\n",
    "        return self.items == []\n",
    "        "
   ]
  },
  {
   "cell_type": "code",
   "execution_count": 4,
   "id": "cc03c412-f219-4b47-8e6a-690bdbca623a",
   "metadata": {},
   "outputs": [
    {
     "data": {
      "text/plain": [
       "'madA'"
      ]
     },
     "execution_count": 4,
     "metadata": {},
     "output_type": "execute_result"
    }
   ],
   "source": [
    "def invert_str(somestring):\n",
    "    stack = Stack() # stack is an instance of the Stack class\n",
    "    for char in somestring:\n",
    "        stack.push(char)\n",
    "    out = \"\"\n",
    "    while not stack.is_empty():\n",
    "        out += stack.pop()\n",
    "    return out\n",
    "\n",
    "invert_str(\"Adam\")"
   ]
  },
  {
   "cell_type": "code",
   "execution_count": 7,
   "id": "304396fb-1268-4c5b-828f-9613d76497dc",
   "metadata": {},
   "outputs": [
    {
     "name": "stdout",
     "output_type": "stream",
     "text": [
      "140379148301224\n",
      "140379148301192\n"
     ]
    }
   ],
   "source": [
    "# In Python, the primary data types are:\n",
    "# int, bool, float\n",
    "\n",
    "x = 5\n",
    "y = x\n",
    "x += 1\n",
    "\n",
    "print(id(x))\n",
    "print(id(y))"
   ]
  },
  {
   "cell_type": "code",
   "execution_count": 6,
   "id": "d1fc25ac-49f5-479b-a9ad-5f3a8ab7cdca",
   "metadata": {},
   "outputs": [
    {
     "name": "stdout",
     "output_type": "stream",
     "text": [
      "[1, 2, 3, 4]\n"
     ]
    }
   ],
   "source": [
    "x = [1, 2, 3]\n",
    "y = x\n",
    "y.append(4)\n",
    "\n",
    "print(x)"
   ]
  },
  {
   "cell_type": "code",
   "execution_count": 2,
   "id": "f5bb9f72-81a5-42aa-81b9-6a586917bccd",
   "metadata": {},
   "outputs": [
    {
     "name": "stdout",
     "output_type": "stream",
     "text": [
      "The current stack size is: 3\n",
      "The value of the top Node of the stack is: 5\n",
      "Popping off the top Node with the value of: 5\n",
      "The current stack size is: 2\n",
      "The value of the top Node of the stack is: 10\n",
      "Popping off the top Node with the value of: 10\n",
      "The current stack size is: 1\n",
      "The value of the top Node of the stack is: 15\n",
      "Popping off the top Node with the value of: 15\n",
      "The current stack size is: 0\n"
     ]
    }
   ],
   "source": [
    "class StackII:\n",
    "    class __Node:\n",
    "        def __init__(self, data):\n",
    "            self.data = data\n",
    "            self.below = None\n",
    "\n",
    "    def __init__(self):\n",
    "        self.top = None\n",
    "        self._size = 0 \n",
    "\n",
    "    def push(self, value):\n",
    "        new_node = self.__Node(value) \n",
    "        if self.is_empty: \n",
    "            self.top = new_node \n",
    "        else: \n",
    "            new_node.below = self.top \n",
    "            self.top = new_node\n",
    "        self._size += 1\n",
    "\n",
    "    def pop(self):\n",
    "        if self.is_empty:\n",
    "            raise IndexError(\"Stack is empty\")\n",
    "        else:\n",
    "            datum = self.top.data \n",
    "            self.top = self.top.below \n",
    "            self._size -= 1 \n",
    "            return datum \n",
    "\n",
    "    @property \n",
    "    def size(self):\n",
    "        return self._size \n",
    "\n",
    "    def peek(self):\n",
    "        if self.is_empty:\n",
    "            raise IndexError(\"Stack is empty\")\n",
    "        else:\n",
    "            return self.top.data \n",
    "\n",
    "    @property \n",
    "    def is_empty(self):\n",
    "        return self.top is None \n",
    "\n",
    "stack = StackII()\n",
    "stack.push(15)\n",
    "stack.push(10)\n",
    "stack.push(5)\n",
    "print(\"The current stack size is: \" + str(stack.size))\n",
    "print(\"The value of the top Node of the stack is: \" + str(stack.peek()))\n",
    "print(\"Popping off the top Node with the value of: \" + str(stack.pop()))\n",
    "print(\"The current stack size is: \" + str(stack.size))\n",
    "print(\"The value of the top Node of the stack is: \" + str(stack.peek()))\n",
    "print(\"Popping off the top Node with the value of: \" + str(stack.pop()))\n",
    "print(\"The current stack size is: \" + str(stack.size))\n",
    "print(\"The value of the top Node of the stack is: \" + str(stack.peek()))\n",
    "print(\"Popping off the top Node with the value of: \" + str(stack.pop()))\n",
    "print(\"The current stack size is: \" + str(stack.size))"
   ]
  },
  {
   "cell_type": "code",
   "execution_count": null,
   "id": "7726bd44-ff21-4cf4-b242-ecd22412128b",
   "metadata": {},
   "outputs": [],
   "source": []
  }
 ],
 "metadata": {
  "kernelspec": {
   "display_name": "Python 3 (ipykernel)",
   "language": "python",
   "name": "python3"
  },
  "language_info": {
   "codemirror_mode": {
    "name": "ipython",
    "version": 3
   },
   "file_extension": ".py",
   "mimetype": "text/x-python",
   "name": "python",
   "nbconvert_exporter": "python",
   "pygments_lexer": "ipython3",
   "version": "3.12.3"
  }
 },
 "nbformat": 4,
 "nbformat_minor": 5
}
