{
 "cells": [
  {
   "cell_type": "code",
   "execution_count": 1,
   "id": "5c879255-3cdd-4406-a905-dff8aba018cb",
   "metadata": {},
   "outputs": [
    {
     "name": "stdout",
     "output_type": "stream",
     "text": [
      "h\n",
      "e\n",
      "l\n",
      "l\n",
      "o\n",
      ",\n",
      " \n",
      "w\n",
      "o\n",
      "r\n",
      "l\n",
      "d\n",
      "!\n"
     ]
    }
   ],
   "source": [
    "for char in \"hello, world!\":\n",
    "    print(char)\n",
    "\n",
    "# Press shift+enter when you've finished typing this."
   ]
  },
  {
   "cell_type": "markdown",
   "id": "e448b915-3c57-493b-8495-f097aa9c2f4b",
   "metadata": {},
   "source": [
    "# Problem 1\n",
    "## Anagram check\n",
    "\n",
    "Given two strings as inputs to your function, determine if these are anagrams of each other. Return `True` if they are, `False` otherwise.\n",
    "\n",
    "### Criteria\n",
    "Two strings are anagrams if all the criteria below are met:\n",
    "1. They must be of equal length.\n",
    "2. They must use the same letters, the same amount of times.\n",
    "\n",
    "```\n",
    "Examples:\n",
    "anagram_check(\"heart\", \"earth\") should return True\n",
    "anagram_check(\"scar\", \"cars\") should return True\n",
    "anagram_check(\"star\", \"rats\") should return True\n",
    "anagram_check(\"aaab\", \"aabb\") should return False\n",
    "```"
   ]
  },
  {
   "cell_type": "markdown",
   "id": "1591a41a-3d2c-4f54-8ceb-203c7f77d980",
   "metadata": {},
   "source": [
    "```"
   ]
  },
  {
   "cell_type": "markdown",
   "id": "ace13a70-2ac2-465c-934c-be6f31c4ac17",
   "metadata": {},
   "source": [
    "```\n",
    "1) Define method anagram_check to take in string1 and string2 as parameters\n",
    "2) Convert both strings to lowercase\n",
    "3) Remove spaces from both strings\n",
    "4) Check to see if strings are equal in length\n",
    "    a) If strings are not equal, return False\n",
    "5) Initialize dictionaries count1 and count2 to hold the character counts for each string\n",
    "6) Count the frequency of each char in string1\n",
    "    a) If the char is in count1, incremement count of char by 1\n",
    "    b) If the char isn't in count1, set count of char to 1\n",
    "7) Count the frequency of each char in string2\n",
    "    a) If the char is in count2, incremement count of char by 1\n",
    "    b) If the char isn't in count2, set count of char to 1\n",
    "8) Compare the two dictionaries\n",
    "    a) If count1 is equal to count2, return True\n",
    "    b) If count1 isn't equal to count2, return False\n",
    "```"
   ]
  },
  {
   "cell_type": "code",
   "execution_count": 13,
   "id": "40e3c723-1678-4dab-8840-6d961528b76f",
   "metadata": {},
   "outputs": [
    {
     "name": "stdout",
     "output_type": "stream",
     "text": [
      "True\n",
      "True\n",
      "False\n"
     ]
    }
   ],
   "source": [
    "def anagram_check(string1, string2):\n",
    "    # Convert both strings to lowercase\n",
    "    string1 = string1.lower()\n",
    "    string2 = string2.lower()\n",
    "\n",
    "    # Remove spaces from both strings\n",
    "    string1 = string1.replace(\" \", \"\")\n",
    "    string2 = string2.replace(\" \", \"\")\n",
    "\n",
    "    # Check to see if strings are equal in length\n",
    "    if (len(string1) != len(string2)):\n",
    "        return False\n",
    "\n",
    "    # Initialize dictionaries to hold the character counts for each string\n",
    "    count1 = {}\n",
    "    count2 = {}\n",
    "\n",
    "    # Count the frequency of each char in string1\n",
    "    for char in string1:\n",
    "        if (char in count1):\n",
    "            count1[char] += 1\n",
    "        else:\n",
    "            count1[char] = 1\n",
    "\n",
    "    # Count the frequency of each char in string2\n",
    "    for char in string2:\n",
    "        if (char in count2):\n",
    "            count2[char] += 1\n",
    "        else:\n",
    "            count2[char] = 1\n",
    "\n",
    "    # Compare the two dictionaries\n",
    "    if (count1 == count2):\n",
    "        return True\n",
    "    else:\n",
    "        return False\n",
    "\n",
    "\n",
    "print(anagram_check(\"Tom Marvolo Riddle\", \"I am Lord Voldemort\"))\n",
    "print(anagram_check(\"anagram\", \"nagaram\"))\n",
    "print(anagram_check(\"rat\", \"car\"))_"
   ]
  },
  {
   "cell_type": "code",
   "execution_count": 16,
   "id": "1c46a0ff-7021-4bd6-b603-6acb769844fd",
   "metadata": {},
   "outputs": [
    {
     "name": "stdout",
     "output_type": "stream",
     "text": [
      "True\n",
      "True\n",
      "False\n"
     ]
    }
   ],
   "source": [
    "from collections import defaultdict\n",
    "\n",
    "def anagram_check(string1, string2):\n",
    "    string1 = string1.lower().replace(\" \", \"\")\n",
    "    string2 = string2.lower().replace(\" \", \"\")\n",
    "\n",
    "    if (len(string1) != len(string2)):\n",
    "        return False\n",
    "\n",
    "    count1 = defaultdict(int) #default_factory instance variable set to int class. \n",
    "    count2 = defaultdict(int)\n",
    "\n",
    "    for char in string1:\n",
    "        count1[char] += 1\n",
    "    for char in string2:\n",
    "        count2[char] += 1\n",
    "\n",
    "    if (count1 == count2):\n",
    "        return True\n",
    "    else:\n",
    "        return False\n",
    "\n",
    "print(anagram_check(\"Tom Marvolo Riddle\", \"I am Lord Voldemort\")) \n",
    "print(anagram_check(\"anagram\", \"nagaram\"))\n",
    "print(anagram_check(\"rat\", \"car\"))"
   ]
  },
  {
   "cell_type": "code",
   "execution_count": null,
   "id": "ed472240-b791-481c-9b33-f8943dcdea02",
   "metadata": {},
   "outputs": [],
   "source": []
  }
 ],
 "metadata": {
  "kernelspec": {
   "display_name": "Python 3 (ipykernel)",
   "language": "python",
   "name": "python3"
  },
  "language_info": {
   "codemirror_mode": {
    "name": "ipython",
    "version": 3
   },
   "file_extension": ".py",
   "mimetype": "text/x-python",
   "name": "python",
   "nbconvert_exporter": "python",
   "pygments_lexer": "ipython3",
   "version": "3.12.3"
  }
 },
 "nbformat": 4,
 "nbformat_minor": 5
}
