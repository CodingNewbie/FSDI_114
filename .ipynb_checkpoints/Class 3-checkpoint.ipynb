{
 "cells": [
  {
   "cell_type": "code",
   "execution_count": 3,
   "id": "18c8f4fd-1032-4a4d-8649-9ac4e42bb0e8",
   "metadata": {},
   "outputs": [
    {
     "name": "stdout",
     "output_type": "stream",
     "text": [
      "Is queue empty? True\n",
      "Queue after enqueuing 1, 2, 3: [3, 2, 1]\n",
      "Size of queue: 3\n",
      "Front element: 1\n"
     ]
    }
   ],
   "source": [
    "# Simplified implementation of Queue (using built-ins)\n",
    "\n",
    "class Queue:\n",
    "    def __init__(self):\n",
    "        self.items = []\n",
    "\n",
    "    def enqueue(self, value):\n",
    "        self.items.insert(0, value)\n",
    "\n",
    "    def dequeue(self):\n",
    "        return self.items.pop()\n",
    "\n",
    "    # Nice to have methods\n",
    "    def size(self):\n",
    "        return len(self.items)\n",
    "\n",
    "    def peek(self):\n",
    "        return self.items[len(self.items)-1]\n",
    "\n",
    "    def is_empty(self):\n",
    "        return self.items == []\n",
    "\n",
    "queue = Queue()\n",
    "print(\"Is queue empty?\", queue.is_empty())  \n",
    "queue.enqueue(1)\n",
    "queue.enqueue(2)\n",
    "queue.enqueue(3)\n",
    "print(\"Queue after enqueuing 1, 2, 3:\", queue.items) \n",
    "print(\"Size of queue:\", queue.size())\n",
    "print(\"Front element:\", queue.peek())"
   ]
  },
  {
   "cell_type": "markdown",
   "id": "e8f03ebe-97fb-480e-8a4e-7c730b539cee",
   "metadata": {},
   "source": [
    "# Problem 1\n",
    "\n",
    "## Create a \"from scratch\" implementation of Queue (QueueII)\n",
    "\n",
    "### Acceptance Criteria\n",
    "1. Built-ins are not allowed (no lists, or built-in methods)\n",
    "2. Your enqueue method must have a worst case time complexity of O(1)\n",
    "3. Your dequeue method must have a worst case time complexity of O(1)\n",
    "\n",
    "### Bonus\n",
    "1. Implemement the size method\n",
    "2. Implement peek\n",
    "3. Implement is_empty\n",
    "\n",
    "### Note\n",
    "If you aren't sure where to start, test the Queue class in the cell above it to know how it works"
   ]
  },
  {
   "cell_type": "markdown",
   "id": "ae6af372-8dab-4695-99d4-094ce210ff70",
   "metadata": {},
   "source": [
    "class QueueII:\n",
    "\n",
    "Create Node class:\n",
    "    For init method (takes self and value parameters):\n",
    "        Initialize value to given value\n",
    "        Initiatize next pointer (points to next Node in the queue) to None\n",
    "        \n",
    "For QueueII init method (takes self parameter):\n",
    "    Initialize front pointer to None\n",
    "    Initialize rear pointer to None\n",
    "\n",
    "For enqueue method (takes self and value parameters):\n",
    "    Create a new Node with the value of the provided value\n",
    "    If queue is empty:\n",
    "        Set front and rear pointers to new Node\n",
    "    Else:\n",
    "        Set next pointer for current rear Node to the new Node\n",
    "        Update the rear pointer to the new Node\n",
    "For dequeue method (takes self parameter):\n",
    "    If the queue is empty:\n",
    "        Raise an IndexError\n",
    "    Else:\n",
    "        Store value of the Node that the front pointer it pointing to\n",
    "        Update front pointer to point to the next node in the queue\n",
    "        If the next Node is equal to None:\n",
    "            Set the rear pointer to None as well\n",
    "        Return the stored value"
   ]
  },
  {
   "cell_type": "code",
   "execution_count": 17,
   "id": "b780e9c7-771b-44a4-a356-4dd23eb43bb8",
   "metadata": {},
   "outputs": [
    {
     "name": "stdout",
     "output_type": "stream",
     "text": [
      "Queue size: 1\n",
      "Queue size: 2\n",
      "Queue size: 3\n",
      "Dequeued: 10\n",
      "Dequeued: 15\n",
      "Dequeued: 20\n"
     ]
    },
    {
     "ename": "IndexError",
     "evalue": "Queue is empty",
     "output_type": "error",
     "traceback": [
      "\u001b[0;31m---------------------------------------------------------------------------\u001b[0m",
      "\u001b[0;31mIndexError\u001b[0m                                Traceback (most recent call last)",
      "Cell \u001b[0;32mIn[17], line 47\u001b[0m\n\u001b[1;32m     45\u001b[0m \u001b[38;5;28mprint\u001b[39m(\u001b[38;5;124m\"\u001b[39m\u001b[38;5;124mDequeued:\u001b[39m\u001b[38;5;124m\"\u001b[39m, queue\u001b[38;5;241m.\u001b[39mdequeue())  \n\u001b[1;32m     46\u001b[0m \u001b[38;5;28mprint\u001b[39m(\u001b[38;5;124m\"\u001b[39m\u001b[38;5;124mDequeued:\u001b[39m\u001b[38;5;124m\"\u001b[39m, queue\u001b[38;5;241m.\u001b[39mdequeue()) \n\u001b[0;32m---> 47\u001b[0m \u001b[38;5;28mprint\u001b[39m(\u001b[38;5;124m\"\u001b[39m\u001b[38;5;124mDequeued:\u001b[39m\u001b[38;5;124m\"\u001b[39m, \u001b[43mqueue\u001b[49m\u001b[38;5;241;43m.\u001b[39;49m\u001b[43mdequeue\u001b[49m\u001b[43m(\u001b[49m\u001b[43m)\u001b[49m) \n",
      "Cell \u001b[0;32mIn[17], line 25\u001b[0m, in \u001b[0;36mQueueII.dequeue\u001b[0;34m(self)\u001b[0m\n\u001b[1;32m     23\u001b[0m \u001b[38;5;28;01mdef\u001b[39;00m \u001b[38;5;21mdequeue\u001b[39m(\u001b[38;5;28mself\u001b[39m):\n\u001b[1;32m     24\u001b[0m     \u001b[38;5;28;01mif\u001b[39;00m \u001b[38;5;28mself\u001b[39m\u001b[38;5;241m.\u001b[39mfront \u001b[38;5;129;01mis\u001b[39;00m \u001b[38;5;28;01mNone\u001b[39;00m:  \n\u001b[0;32m---> 25\u001b[0m         \u001b[38;5;28;01mraise\u001b[39;00m \u001b[38;5;167;01mIndexError\u001b[39;00m(\u001b[38;5;124m\"\u001b[39m\u001b[38;5;124mQueue is empty\u001b[39m\u001b[38;5;124m\"\u001b[39m)\n\u001b[1;32m     26\u001b[0m     node_value \u001b[38;5;241m=\u001b[39m \u001b[38;5;28mself\u001b[39m\u001b[38;5;241m.\u001b[39mfront\u001b[38;5;241m.\u001b[39mvalue \n\u001b[1;32m     27\u001b[0m     \u001b[38;5;28mself\u001b[39m\u001b[38;5;241m.\u001b[39mfront \u001b[38;5;241m=\u001b[39m \u001b[38;5;28mself\u001b[39m\u001b[38;5;241m.\u001b[39mfront\u001b[38;5;241m.\u001b[39mnext \n",
      "\u001b[0;31mIndexError\u001b[0m: Queue is empty"
     ]
    }
   ],
   "source": [
    "class QueueII:\n",
    "    class __Node:\n",
    "        def __init__(self, value):\n",
    "            self.value = value\n",
    "            self.next = None\n",
    "\n",
    "    def __init__(self):\n",
    "        self.front = None\n",
    "        self.rear = None\n",
    "        self._size = 0\n",
    "\n",
    "    def enqueue(self, value):\n",
    "        self._size += 1\n",
    "        new_node = self.__Node(value)\n",
    "        if self.front is None:\n",
    "            self.front = new_node\n",
    "            self.rear = new_node\n",
    "        else:\n",
    "            self.rear.next = new_node\n",
    "            self.rear = new_node\n",
    "            \n",
    "\n",
    "    def dequeue(self):\n",
    "        if self.front is None:  \n",
    "            raise IndexError(\"Queue is empty\")\n",
    "        node_value = self.front.value \n",
    "        self.front = self.front.next \n",
    "        self._size -= 1\n",
    "        if self.front is None: \n",
    "            self.rear = None\n",
    "        return node_value\n",
    "\n",
    "    @property\n",
    "    def size(self):\n",
    "        return self._size\n",
    "\n",
    "queue = QueueII()\n",
    "print(\"Queue size:\",queue.size)\n",
    "queue.enqueue(10)\n",
    "print(\"Queue size:\",queue.size)\n",
    "queue.enqueue(15)\n",
    "print(\"Queue size:\",queue.size)\n",
    "queue.enqueue(20)\n",
    "print(\"Queue size:\",queue.size)\n",
    "print(\"Dequeued:\", queue.dequeue()) \n",
    "print(\"Dequeued:\", queue.dequeue())  \n",
    "print(\"Dequeued:\", queue.dequeue()) \n",
    "print(\"Dequeued:\", queue.dequeue()) "
   ]
  },
  {
   "cell_type": "code",
   "execution_count": null,
   "id": "b6f61fa8-529e-452e-9b0e-176409b1a855",
   "metadata": {},
   "outputs": [],
   "source": []
  }
 ],
 "metadata": {
  "kernelspec": {
   "display_name": "Python 3 (ipykernel)",
   "language": "python",
   "name": "python3"
  },
  "language_info": {
   "codemirror_mode": {
    "name": "ipython",
    "version": 3
   },
   "file_extension": ".py",
   "mimetype": "text/x-python",
   "name": "python",
   "nbconvert_exporter": "python",
   "pygments_lexer": "ipython3",
   "version": "3.12.3"
  }
 },
 "nbformat": 4,
 "nbformat_minor": 5
}
